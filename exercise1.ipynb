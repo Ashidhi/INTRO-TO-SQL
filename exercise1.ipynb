{
  "nbformat": 4,
  "nbformat_minor": 0,
  "metadata": {
    "colab": {
      "provenance": [],
      "authorship_tag": "ABX9TyObehhd19BjGnB3VaaTAyRw",
      "include_colab_link": true
    },
    "kernelspec": {
      "name": "python3",
      "display_name": "Python 3"
    },
    "language_info": {
      "name": "python"
    }
  },
  "cells": [
    {
      "cell_type": "markdown",
      "metadata": {
        "id": "view-in-github",
        "colab_type": "text"
      },
      "source": [
        "<a href=\"https://colab.research.google.com/github/Ashidhi/INTRO-TO-SQL/blob/main/exercise1.ipynb\" target=\"_parent\"><img src=\"https://colab.research.google.com/assets/colab-badge.svg\" alt=\"Open In Colab\"/></a>"
      ]
    },
    {
      "cell_type": "code",
      "execution_count": 2,
      "metadata": {
        "id": "biztSN9yeUhN"
      },
      "outputs": [],
      "source": [
        "from google.colab import auth\n",
        "auth.authenticate_user()  # This will prompt you to authorize\n",
        "\n",
        "#import the Python package\n",
        "from google.cloud import bigquery\n"
      ]
    },
    {
      "cell_type": "code",
      "source": [
        "# List all tables in the dataset\n",
        "tables = list(client.list_tables(dataset_ref))\n",
        "\n",
        "# Print the number of tables\n",
        "print(\"Number of tables in 'chicago_crime':\", len(tables))\n"
      ],
      "metadata": {
        "colab": {
          "base_uri": "https://localhost:8080/"
        },
        "id": "bygK9uWYlRsu",
        "outputId": "44d4c761-b18b-4d6f-8077-b636baeeeaa2"
      },
      "execution_count": 4,
      "outputs": [
        {
          "output_type": "stream",
          "name": "stdout",
          "text": [
            "Number of tables in 'chicago_crime': 1\n"
          ]
        }
      ]
    },
    {
      "cell_type": "markdown",
      "source": [
        "1) Count tables in the dataset\n",
        "\n",
        "How many tables are in the Chicago Crime dataset?"
      ],
      "metadata": {
        "id": "cltaTkEBsT0k"
      }
    },
    {
      "cell_type": "code",
      "source": [
        "# Create a \"Client\" object\n",
        "client = bigquery.Client()\n",
        "\n",
        "# Construct a reference to the \"chicago_crime\" dataset\n",
        "dataset_ref = client.dataset(\"chicago_crime\", project=\"bigquery-public-data\")\n",
        "\n",
        "# API request - fetch the dataset\n",
        "dataset = client.get_dataset(dataset_ref)"
      ],
      "metadata": {
        "id": "COo6nowtk7xr"
      },
      "execution_count": 3,
      "outputs": []
    },
    {
      "cell_type": "code",
      "source": [
        "num_tables = 1      # Store the answer as num_tables and then run this cell\n",
        "\n",
        "print(num_tables)"
      ],
      "metadata": {
        "id": "BsNehXNZmLSL",
        "colab": {
          "base_uri": "https://localhost:8080/"
        },
        "outputId": "cb3d696a-8bb0-4543-9dec-b6444c66c183"
      },
      "execution_count": 6,
      "outputs": [
        {
          "output_type": "stream",
          "name": "stdout",
          "text": [
            "1\n"
          ]
        }
      ]
    },
    {
      "cell_type": "markdown",
      "source": [],
      "metadata": {
        "id": "3CNz9qNAsQ8b"
      }
    },
    {
      "cell_type": "markdown",
      "source": [
        "2) Explore the table schema\n",
        "\n",
        "How many columns in the `crime` table have `TIMESTAMP` data?"
      ],
      "metadata": {
        "id": "ONPeL9PEt2Qt"
      }
    },
    {
      "cell_type": "code",
      "source": [
        "# Construct a reference to the \"chicago_crime\" table\n",
        "table_ref = dataset_ref.table(\"crime\")\n",
        "\n",
        "# API request - fetch the table\n",
        "table = client.get_table(table_ref)\n",
        "\n",
        "# Print information on all the columns in the \"crime\" table in the  dataset\n",
        "table.schema\n",
        "\n",
        "\n"
      ],
      "metadata": {
        "colab": {
          "base_uri": "https://localhost:8080/"
        },
        "id": "YnwQ856xt52I",
        "outputId": "ed79aeb1-885d-4683-eb37-3a69639ce039"
      },
      "execution_count": 9,
      "outputs": [
        {
          "output_type": "execute_result",
          "data": {
            "text/plain": [
              "[SchemaField('unique_key', 'INTEGER', 'REQUIRED', None, None, (), None),\n",
              " SchemaField('case_number', 'STRING', 'NULLABLE', None, None, (), None),\n",
              " SchemaField('date', 'TIMESTAMP', 'NULLABLE', None, None, (), None),\n",
              " SchemaField('block', 'STRING', 'NULLABLE', None, None, (), None),\n",
              " SchemaField('iucr', 'STRING', 'NULLABLE', None, None, (), None),\n",
              " SchemaField('primary_type', 'STRING', 'NULLABLE', None, None, (), None),\n",
              " SchemaField('description', 'STRING', 'NULLABLE', None, None, (), None),\n",
              " SchemaField('location_description', 'STRING', 'NULLABLE', None, None, (), None),\n",
              " SchemaField('arrest', 'BOOLEAN', 'NULLABLE', None, None, (), None),\n",
              " SchemaField('domestic', 'BOOLEAN', 'NULLABLE', None, None, (), None),\n",
              " SchemaField('beat', 'INTEGER', 'NULLABLE', None, None, (), None),\n",
              " SchemaField('district', 'INTEGER', 'NULLABLE', None, None, (), None),\n",
              " SchemaField('ward', 'INTEGER', 'NULLABLE', None, None, (), None),\n",
              " SchemaField('community_area', 'INTEGER', 'NULLABLE', None, None, (), None),\n",
              " SchemaField('fbi_code', 'STRING', 'NULLABLE', None, None, (), None),\n",
              " SchemaField('x_coordinate', 'FLOAT', 'NULLABLE', None, None, (), None),\n",
              " SchemaField('y_coordinate', 'FLOAT', 'NULLABLE', None, None, (), None),\n",
              " SchemaField('year', 'INTEGER', 'NULLABLE', None, None, (), None),\n",
              " SchemaField('updated_on', 'TIMESTAMP', 'NULLABLE', None, None, (), None),\n",
              " SchemaField('latitude', 'FLOAT', 'NULLABLE', None, None, (), None),\n",
              " SchemaField('longitude', 'FLOAT', 'NULLABLE', None, None, (), None),\n",
              " SchemaField('location', 'STRING', 'NULLABLE', None, None, (), None)]"
            ]
          },
          "metadata": {},
          "execution_count": 9
        }
      ]
    },
    {
      "cell_type": "code",
      "source": [
        "num_timestamp_fields = 2\n",
        "num_timestamp_fields"
      ],
      "metadata": {
        "colab": {
          "base_uri": "https://localhost:8080/"
        },
        "id": "A4kI0pIdwE0Z",
        "outputId": "01321192-4eaa-4f91-f574-f7de7e3bfab7"
      },
      "execution_count": 10,
      "outputs": [
        {
          "output_type": "execute_result",
          "data": {
            "text/plain": [
              "2"
            ]
          },
          "metadata": {},
          "execution_count": 10
        }
      ]
    },
    {
      "cell_type": "markdown",
      "source": [
        "3) Create a crime map\n",
        "\n",
        "If you wanted to create a map with a dot at the location of each crime, what are the names of the two fields you likely need to pull out of the `crime` table to plot the crimes on a map?"
      ],
      "metadata": {
        "id": "2TEI3a7qw3Fc"
      }
    },
    {
      "cell_type": "code",
      "source": [
        "fields_for_plotting = ['latitude', 'longitude']\n",
        "fields_for_plotting\n"
      ],
      "metadata": {
        "colab": {
          "base_uri": "https://localhost:8080/"
        },
        "id": "oojPBNrCwaKq",
        "outputId": "3f41f31c-3325-41fd-b8af-42a8f314e0f3"
      },
      "execution_count": 11,
      "outputs": [
        {
          "output_type": "execute_result",
          "data": {
            "text/plain": [
              "['latitude', 'longitude']"
            ]
          },
          "metadata": {},
          "execution_count": 11
        }
      ]
    },
    {
      "cell_type": "markdown",
      "source": [
        "Thinking about the question above, there are a few columns that appear to have geographic data. Look at a few values (with the `list_rows()` command) to see if you can determine their relationship.  Two columns will still be hard to interpret. But it should be obvious how the `location` column relates to `latitude` and `longitude`."
      ],
      "metadata": {
        "id": "ykco8fMn04n7"
      }
    },
    {
      "cell_type": "code",
      "source": [
        "# Fully qualified table name as a string\n",
        "table_id = \"bigquery-public-data.chicago_crime.crime\"\n",
        "rows = client.list_rows(table_id, max_results=10)\n",
        "# Print geographic columns\n",
        "for row in rows:\n",
        "    print(f\"latitude: {row.get('latitude')}, longitude: {row.get('longitude')}, location: {row.get('location')}\")"
      ],
      "metadata": {
        "colab": {
          "base_uri": "https://localhost:8080/"
        },
        "id": "TQpPgMm6xrgJ",
        "outputId": "5b385a05-ec49-4feb-a324-33035464b4ed"
      },
      "execution_count": 14,
      "outputs": [
        {
          "output_type": "stream",
          "name": "stdout",
          "text": [
            "latitude: 41.885191719, longitude: -87.624486846, location: (41.885191719, -87.624486846)\n",
            "latitude: 41.885729587, longitude: -87.625821329, location: (41.885729587, -87.625821329)\n",
            "latitude: 41.888077161, longitude: -87.625578746, location: (41.888077161, -87.625578746)\n",
            "latitude: 41.886832476, longitude: -87.627557257, location: (41.886832476, -87.627557257)\n",
            "latitude: 41.884790951, longitude: -87.624469241, location: (41.884790951, -87.624469241)\n",
            "latitude: 41.87799875, longitude: -87.642904147, location: (41.87799875, -87.642904147)\n",
            "latitude: 41.882738916, longitude: -87.635328699, location: (41.882738916, -87.635328699)\n",
            "latitude: 41.87798283, longitude: -87.644365761, location: (41.87798283, -87.644365761)\n",
            "latitude: 41.887845852, longitude: -87.624560336, location: (41.887845852, -87.624560336)\n",
            "latitude: 41.885888079, longitude: -87.627942238, location: (41.885888079, -87.627942238)\n"
          ]
        }
      ]
    },
    {
      "cell_type": "code",
      "source": [],
      "metadata": {
        "id": "QYS0V-Bs0YEW"
      },
      "execution_count": null,
      "outputs": []
    }
  ]
}